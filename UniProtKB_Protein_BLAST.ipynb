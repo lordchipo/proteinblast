{
  "nbformat": 4,
  "nbformat_minor": 0,
  "metadata": {
    "colab": {
      "provenance": [],
      "authorship_tag": "ABX9TyMTF+Pk79BJ0YtlcCsTrpQz",
      "include_colab_link": true
    },
    "kernelspec": {
      "name": "python3",
      "display_name": "Python 3"
    },
    "language_info": {
      "name": "python"
    }
  },
  "cells": [
    {
      "cell_type": "markdown",
      "metadata": {
        "id": "view-in-github",
        "colab_type": "text"
      },
      "source": [
        "<a href=\"https://colab.research.google.com/github/lordchipo/proteinblast/blob/main/UniProtKB_Protein_BLAST.ipynb\" target=\"_parent\"><img src=\"https://colab.research.google.com/assets/colab-badge.svg\" alt=\"Open In Colab\"/></a>"
      ]
    },
    {
      "cell_type": "markdown",
      "source": [
        "# Protein Sequence Similarity Search on UniProtKB/Swiss-Prot\n",
        "## 1. Install biopython and import the required modules\n",
        "- Install Biopython into the Google Colab runtime\n",
        "- Import the Bio.Blast.NCBIWWW module which invokes the NCBI-BLAST server over the Internet.\n",
        "- Import the SeqIO and SearchIO modules as interfaces for input sequences, output sequences, and search results.\n",
        "- Import \"files\" from the google.colab library\n",
        "- Install and import pandas (important for saving search results)"
      ],
      "metadata": {
        "id": "Z6SHSY02Nr6i"
      }
    },
    {
      "cell_type": "code",
      "source": [
        "!pip install biopython\n",
        "!pip install pandas\n",
        "from Bio.Blast import NCBIWWW\n",
        "from Bio import SeqIO, SearchIO\n",
        "from google.colab import files\n",
        "import pandas as pd"
      ],
      "metadata": {
        "id": "gXJAqAERN_tP"
      },
      "execution_count": null,
      "outputs": []
    },
    {
      "cell_type": "markdown",
      "source": [
        "## 2. Enter a protein query sequence file\n",
        "The file format for the query is *.fasta"
      ],
      "metadata": {
        "id": "mZ4ZJkQGOGN_"
      }
    },
    {
      "cell_type": "code",
      "source": [
        "file_upload = files.upload()\n",
        "query_dir = list(file_upload.keys())[0]\n",
        "\n",
        "query = SeqIO.read(query_dir, format = \"fasta\")\n",
        "print(query.description)\n",
        "print(\"Length of the query protein is: \" + str(len(query)))\n",
        "print(query.seq)"
      ],
      "metadata": {
        "id": "25HBQfUROWzs"
      },
      "execution_count": null,
      "outputs": []
    },
    {
      "cell_type": "markdown",
      "source": [
        "## 3. Search UniProtKB for target proteins based on sequence similarity to the query"
      ],
      "metadata": {
        "id": "56TkQ0GyOk9m"
      }
    },
    {
      "cell_type": "code",
      "source": [
        "result_handle = NCBIWWW.qblast(\"blastp\", \"swissprot\", query.seq)\n",
        "search_results = SearchIO.read(result_handle, \"blast-xml\")\n",
        "\n",
        "# Display the search results\n",
        "print(search_results)"
      ],
      "metadata": {
        "id": "6FMvjkyLO1Z_"
      },
      "execution_count": null,
      "outputs": []
    },
    {
      "cell_type": "markdown",
      "source": [
        "*UniProt IDs can be used to search protein structures in the AlphaFold Protein Structure Database (alphafold.ebi.ac.uk)*"
      ],
      "metadata": {
        "id": "9RKCCfdmO4DV"
      }
    },
    {
      "cell_type": "markdown",
      "source": [
        "#4. Save the search results as a CSV file"
      ],
      "metadata": {
        "id": "EWeCuSSyzv-E"
      }
    },
    {
      "cell_type": "code",
      "source": [
        "results_df = pd.DataFrame(search_results)\n",
        "results_df.to_csv(\"UniProtKB_search_results.csv\")\n",
        "files.download(\"UniProtKB_search_results.csv\")"
      ],
      "metadata": {
        "id": "dJZlNevaz8oZ"
      },
      "execution_count": null,
      "outputs": []
    },
    {
      "cell_type": "markdown",
      "source": [
        "## (Optional) Display a specific range of search results (e.g. results #10-20)"
      ],
      "metadata": {
        "id": "tYyoHcOyPEAA"
      }
    },
    {
      "cell_type": "code",
      "source": [
        "i1 = input(\"Enter lower bound of range: \")\n",
        "i2 = input(\"Enter upper bound of range: \")\n",
        "\n",
        "print(search_results[int(i1):int(i2)])"
      ],
      "metadata": {
        "id": "KrM0IoAGPGWW"
      },
      "execution_count": null,
      "outputs": []
    }
  ]
}