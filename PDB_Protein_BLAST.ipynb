{
  "nbformat": 4,
  "nbformat_minor": 0,
  "metadata": {
    "colab": {
      "provenance": [],
      "authorship_tag": "ABX9TyP+0XLO8OpLgojN5JbTfQJI",
      "include_colab_link": true
    },
    "kernelspec": {
      "name": "python3",
      "display_name": "Python 3"
    },
    "language_info": {
      "name": "python"
    }
  },
  "cells": [
    {
      "cell_type": "markdown",
      "metadata": {
        "id": "view-in-github",
        "colab_type": "text"
      },
      "source": [
        "<a href=\"https://colab.research.google.com/github/lordchipo/proteinblast/blob/main/PDB_Protein_BLAST.ipynb\" target=\"_parent\"><img src=\"https://colab.research.google.com/assets/colab-badge.svg\" alt=\"Open In Colab\"/></a>"
      ]
    },
    {
      "cell_type": "markdown",
      "source": [
        "# Protein Sequence Similarity Search on PDB Using NCBI-BLAST\n",
        "This script aims to search protein structures in the PDB using NCBI-BLAST based on the structures' sequence similarity to the provided query protein sequence."
      ],
      "metadata": {
        "id": "iTB_q3CNoQv0"
      }
    },
    {
      "cell_type": "markdown",
      "source": [
        "## 1. Import the required modules from the biopython package\n",
        "- Install Biopython\n",
        "- Import the Bio.Blast.NCBIWWW module which invokes the NCBI-BLAST server over the Internet.\n",
        "- Import the SeqIO and SearchIO modules as interfaces for input sequences, output sequences, and search results.\n",
        "- Import \"files\" module from the google.colab library\n",
        "- Install and import pandas (important for saving the search results)"
      ],
      "metadata": {
        "id": "SfnximPCqAdt"
      }
    },
    {
      "cell_type": "code",
      "source": [
        "!pip install biopython\n",
        "!pip install pandas\n",
        "from Bio.Blast import NCBIWWW\n",
        "from Bio import SeqIO, SearchIO\n",
        "from google.colab import files\n",
        "import pandas as pd"
      ],
      "metadata": {
        "id": "uwKDB968oQA8"
      },
      "execution_count": null,
      "outputs": []
    },
    {
      "cell_type": "markdown",
      "source": [
        "## 2. Upload a protein query sequence file in the FASTA format"
      ],
      "metadata": {
        "id": "MuHo3ZW3rMVF"
      }
    },
    {
      "cell_type": "code",
      "source": [
        "upload = files.upload()\n",
        "query_dir = list(upload.keys())[0]\n",
        "\n",
        "query = SeqIO.read(query_dir, format = \"fasta\")\n",
        "print(query.description)\n",
        "print(\"Length of the query protein is: \" + str(len(query)))\n",
        "print(query.seq)"
      ],
      "metadata": {
        "id": "C9IEfdhHrPkE"
      },
      "execution_count": null,
      "outputs": []
    },
    {
      "cell_type": "markdown",
      "source": [
        "## 3. Search the PDB for target proteins based on sequence similarity to the query"
      ],
      "metadata": {
        "id": "2_vIZAy4rVny"
      }
    },
    {
      "cell_type": "code",
      "source": [
        "result_handle = NCBIWWW.qblast(\"blastp\", \"pdb\", query.seq)\n",
        "search_results = SearchIO.read(result_handle, \"blast-xml\")\n",
        "\n",
        "# Display the search results\n",
        "print(search_results)"
      ],
      "metadata": {
        "id": "wYqQpuI5rYsS"
      },
      "execution_count": null,
      "outputs": []
    },
    {
      "cell_type": "markdown",
      "source": [
        "# 4. Save the search results in a CSV or Excel file"
      ],
      "metadata": {
        "id": "x4qGTR6NtHe_"
      }
    },
    {
      "cell_type": "code",
      "source": [
        "df = pd.DataFrame(search_results)\n",
        "save_choice = input(\"Type 0 to save as CSV or 1 to save as Excel:\")\n",
        "\n",
        "if save_choice == \"0\":\n",
        "  df.to_csv(\"BLAST_PDB_search_results.csv\", index=False)\n",
        "  files.download(\"BLAST_PDB_search_results.csv\")\n",
        "elif save_choice == \"1\":\n",
        "  df.to_excel(\"BLAST_PDB_search_results.xlsx\", index=False)\n",
        "  files.download(\"BLAST_PDB_search_results.xlsx\")\n",
        "else:\n",
        "  print(\"Error: Invalid choice\")"
      ],
      "metadata": {
        "id": "rG-X0_-ssbNM"
      },
      "execution_count": null,
      "outputs": []
    },
    {
      "cell_type": "markdown",
      "source": [
        "## (Optional) Display a specific range of search results (e.g. results #10-20)"
      ],
      "metadata": {
        "id": "nJEwQinLrcHp"
      }
    },
    {
      "cell_type": "code",
      "source": [
        "i1 = input(\"Enter lower bound of range: \")\n",
        "i2 = input(\"Enter upper bound of range: \")\n",
        "\n",
        "print(search_results[int(i1):int(i2)])"
      ],
      "metadata": {
        "id": "K7u5Hw0orfOS"
      },
      "execution_count": null,
      "outputs": []
    }
  ]
}